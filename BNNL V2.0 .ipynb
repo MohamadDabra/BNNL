{
  "nbformat": 4,
  "nbformat_minor": 0,
  "metadata": {
    "colab": {
      "provenance": [],
      "authorship_tag": "ABX9TyNEx52bnq3IQ+3fK3v5UbtR",
      "include_colab_link": true
    },
    "kernelspec": {
      "name": "python3",
      "display_name": "Python 3"
    },
    "language_info": {
      "name": "python"
    }
  },
  "cells": [
    {
      "cell_type": "markdown",
      "metadata": {
        "id": "view-in-github",
        "colab_type": "text"
      },
      "source": [
        "<a href=\"https://colab.research.google.com/github/MohamadDabra/BNNL/blob/main/BNNL%20V2.0%20.ipynb\" target=\"_parent\"><img src=\"https://colab.research.google.com/assets/colab-badge.svg\" alt=\"Open In Colab\"/></a>"
      ]
    },
    {
      "cell_type": "code",
      "execution_count": null,
      "metadata": {
        "id": "CI536eyOcTgB"
      },
      "outputs": [],
      "source": [
        "# activations\n",
        "import numpy as np\n",
        "from layer import Layer\n",
        "\n",
        "class Activation(Layer):\n",
        "    def __init__(self, activation, activation_prime):\n",
        "        self.activation = activation\n",
        "        self.activation_prime = activation_prime\n",
        "\n",
        "    def forward(self, input):\n",
        "        self.input = input\n",
        "        return self.activation(self.input)\n",
        "\n",
        "    def backward(self, output_gradient, learning_rate):\n",
        "        return np.multiply(output_gradient, self.activation_prime(self.input))"
      ]
    },
    {
      "cell_type": "code",
      "source": [
        "# convolutional\n",
        "import numpy as np\n",
        "from scipy import signal\n",
        "from layer import Layer\n",
        "\n",
        "class Convolutional(Layer):\n",
        "    def __init__(self, input_shape, kernel_size, depth):\n",
        "        input_depth, input_height, input_width = input_shape\n",
        "        self.depth = depth\n",
        "        self.input_shape = input_shape\n",
        "        self.input_depth = input_depth\n",
        "        self.output_shape = (depth, input_height - kernel_size + 1, input_width - kernel_size + 1)\n",
        "        self.kernels_shape = (depth, input_depth, kernel_size, kernel_size)\n",
        "        self.kernels = np.random.randn(*self.kernels_shape)\n",
        "        self.biases = np.random.randn(*self.output_shape)\n",
        "\n",
        "    def forward(self, input):\n",
        "        self.input = input\n",
        "        self.output = np.copy(self.biases)\n",
        "        for i in range(self.depth):\n",
        "            for j in range(self.input_depth):\n",
        "                self.output[i] += signal.correlate2d(self.input[j], self.kernels[i, j], \"valid\")\n",
        "        return self.output\n",
        "\n",
        "    def backward(self, output_gradient, learning_rate):\n",
        "        kernels_gradient = np.zeros(self.kernels_shape)\n",
        "        input_gradient = np.zeros(self.input_shape)\n",
        "\n",
        "        for i in range(self.depth):\n",
        "            for j in range(self.input_depth):\n",
        "                kernels_gradient[i, j] = signal.correlate2d(self.input[j], output_gradient[i], \"valid\")\n",
        "                input_gradient[j] += signal.convolve2d(output_gradient[i], self.kernels[i, j], \"full\")\n",
        "\n",
        "        self.kernels -= learning_rate * kernels_gradient\n",
        "        self.biases -= learning_rate * output_gradient\n",
        "        return input_gradient"
      ],
      "metadata": {
        "id": "OmJa7G6fdhH4"
      },
      "execution_count": null,
      "outputs": []
    },
    {
      "cell_type": "code",
      "source": [
        "# dense\n",
        "import numpy as np\n",
        "from layer import Layer\n",
        "\n",
        "class Dense(Layer):\n",
        "    def __init__(self, input_size, output_size):\n",
        "        self.weights = np.random.randn(output_size, input_size)\n",
        "        self.bias = np.random.randn(output_size, 1)\n",
        "\n",
        "    def forward(self, input):\n",
        "        self.input = input\n",
        "        return np.dot(self.weights, self.input) + self.bias\n",
        "\n",
        "    def backward(self, output_gradient, learning_rate):\n",
        "        weights_gradient = np.dot(output_gradient, self.input.T)\n",
        "        input_gradient = np.dot(self.weights.T, output_gradient)\n",
        "        self.weights -= learning_rate * weights_gradient\n",
        "        self.bias -= learning_rate * output_gradient\n",
        "        return input_gradient"
      ],
      "metadata": {
        "id": "mb1Q2XhLd_pf"
      },
      "execution_count": null,
      "outputs": []
    },
    {
      "cell_type": "code",
      "source": [
        "# layer\n",
        "class Layer:\n",
        "    def __init__(self):\n",
        "        self.input = None\n",
        "        self.output = None\n",
        "\n",
        "    def forward(self, input):\n",
        "        # TODO: return output\n",
        "        pass\n",
        "\n",
        "    def backward(self, output_gradient, learning_rate):\n",
        "        # TODO: update parameters and return input gradient\n",
        "        pass"
      ],
      "metadata": {
        "id": "o4NE7YkgeMwl"
      },
      "execution_count": null,
      "outputs": []
    },
    {
      "cell_type": "code",
      "source": [
        "# losses\n",
        "import numpy as np\n",
        "\n",
        "def mse(y_true, y_pred):\n",
        "    return np.mean(np.power(y_true - y_pred, 2))\n",
        "\n",
        "def mse_prime(y_true, y_pred):\n",
        "    return 2 * (y_pred - y_true) / np.size(y_true)\n",
        "\n",
        "def binary_cross_entropy(y_true, y_pred):\n",
        "    return np.mean(-y_true * np.log(y_pred) - (1 - y_true) * np.log(1 - y_pred))\n",
        "\n",
        "def binary_cross_entropy_prime(y_true, y_pred):\n",
        "    return ((1 - y_true) / (1 - y_pred) - y_true / y_pred) / np.size(y_true)"
      ],
      "metadata": {
        "id": "vo74EduAekhd"
      },
      "execution_count": null,
      "outputs": []
    },
    {
      "cell_type": "code",
      "source": [
        "# mnist\n",
        "import numpy as np\n",
        "from keras.datasets import mnist\n",
        "from keras.utils import np_utils\n",
        "\n",
        "from dense import Dense\n",
        "from activations import Tanh\n",
        "from losses import mse, mse_prime\n",
        "from network import train, predict\n",
        "\n",
        "\n",
        "def preprocess_data(x, y, limit):\n",
        "    # reshape and normalize input data\n",
        "    x = x.reshape(x.shape[0], 28 * 28, 1)\n",
        "    x = x.astype(\"float32\") / 255\n",
        "    # encode output which is a number in range [0,9] into a vector of size 10\n",
        "    # e.g. number 3 will become [0, 0, 0, 1, 0, 0, 0, 0, 0, 0]\n",
        "    y = np_utils.to_categorical(y)\n",
        "    y = y.reshape(y.shape[0], 10, 1)\n",
        "    return x[:limit], y[:limit]\n",
        "\n",
        "\n",
        "# load MNIST from server\n",
        "(x_train, y_train), (x_test, y_test) = mnist.load_data()\n",
        "x_train, y_train = preprocess_data(x_train, y_train, 1000)\n",
        "x_test, y_test = preprocess_data(x_test, y_test, 20)\n",
        "\n",
        "# neural network\n",
        "network = [\n",
        "    Dense(28 * 28, 40),\n",
        "    Tanh(),\n",
        "    Dense(40, 10),\n",
        "    Tanh()\n",
        "]\n",
        "\n",
        "# train\n",
        "train(network, mse, mse_prime, x_train, y_train, epochs=100, learning_rate=0.1)\n",
        "\n",
        "# test\n",
        "for x, y in zip(x_test, y_test):\n",
        "    output = predict(network, x)\n",
        "    print('pred:', np.argmax(output), '\\ttrue:', np.argmax(y))"
      ],
      "metadata": {
        "id": "lAZYa6GJeosU"
      },
      "execution_count": null,
      "outputs": []
    },
    {
      "cell_type": "code",
      "source": [
        "# mnist_conv\n",
        "import numpy as np\n",
        "from keras.datasets import mnist\n",
        "from keras.utils import np_utils\n",
        "\n",
        "from dense import Dense\n",
        "from convolutional import Convolutional\n",
        "from reshape import Reshape\n",
        "from activations import Sigmoid\n",
        "from losses import binary_cross_entropy, binary_cross_entropy_prime\n",
        "from network import train, predict\n",
        "\n",
        "def preprocess_data(x, y, limit):\n",
        "    zero_index = np.where(y == 0)[0][:limit]\n",
        "    one_index = np.where(y == 1)[0][:limit]\n",
        "    all_indices = np.hstack((zero_index, one_index))\n",
        "    all_indices = np.random.permutation(all_indices)\n",
        "    x, y = x[all_indices], y[all_indices]\n",
        "    x = x.reshape(len(x), 1, 28, 28)\n",
        "    x = x.astype(\"float32\") / 255\n",
        "    y = np_utils.to_categorical(y)\n",
        "    y = y.reshape(len(y), 2, 1)\n",
        "    return x, y\n",
        "\n",
        "# load MNIST from server, limit to 100 images per class since we're not training on GPU\n",
        "(x_train, y_train), (x_test, y_test) = mnist.load_data()\n",
        "x_train, y_train = preprocess_data(x_train, y_train, 100)\n",
        "x_test, y_test = preprocess_data(x_test, y_test, 100)\n",
        "\n",
        "# neural network\n",
        "network = [\n",
        "    Convolutional((1, 28, 28), 3, 5),\n",
        "    Sigmoid(),\n",
        "    Reshape((5, 26, 26), (5 * 26 * 26, 1)),\n",
        "    Dense(5 * 26 * 26, 100),\n",
        "    Sigmoid(),\n",
        "    Dense(100, 2),\n",
        "    Sigmoid()\n",
        "]\n",
        "\n",
        "# train\n",
        "train(\n",
        "    network,\n",
        "    binary_cross_entropy,\n",
        "    binary_cross_entropy_prime,\n",
        "    x_train,\n",
        "    y_train,\n",
        "    epochs=20,\n",
        "    learning_rate=0.1\n",
        ")\n",
        "\n",
        "# test\n",
        "for x, y in zip(x_test, y_test):\n",
        "    output = predict(network, x)\n",
        "    print(f\"pred: {np.argmax(output)}, true: {np.argmax(y)}\")"
      ],
      "metadata": {
        "id": "FmPOPd0Xe0TM"
      },
      "execution_count": null,
      "outputs": []
    },
    {
      "cell_type": "code",
      "source": [
        "# network\n",
        "def predict(network, input):\n",
        "    output = input\n",
        "    for layer in network:\n",
        "        output = layer.forward(output)\n",
        "    return output\n",
        "\n",
        "def train(network, loss, loss_prime, x_train, y_train, epochs = 1000, learning_rate = 0.01, verbose = True):\n",
        "    for e in range(epochs):\n",
        "        error = 0\n",
        "        for x, y in zip(x_train, y_train):\n",
        "            # forward\n",
        "            output = predict(network, x)\n",
        "\n",
        "            # error\n",
        "            error += loss(y, output)\n",
        "\n",
        "            # backward\n",
        "            grad = loss_prime(y, output)\n",
        "            for layer in reversed(network):\n",
        "                grad = layer.backward(grad, learning_rate)\n",
        "\n",
        "        error /= len(x_train)\n",
        "        if verbose:\n",
        "            print(f\"{e + 1}/{epochs}, error={error}\")"
      ],
      "metadata": {
        "id": "Q8mlpHwyfAN4"
      },
      "execution_count": null,
      "outputs": []
    },
    {
      "cell_type": "code",
      "source": [
        "# reshape\n",
        "import numpy as np\n",
        "from layer import Layer\n",
        "\n",
        "class Reshape(Layer):\n",
        "    def __init__(self, input_shape, output_shape):\n",
        "        self.input_shape = input_shape\n",
        "        self.output_shape = output_shape\n",
        "\n",
        "    def forward(self, input):\n",
        "        return np.reshape(input, self.output_shape)\n",
        "\n",
        "    def backward(self, output_gradient, learning_rate):\n",
        "        return np.reshape(output_gradient, self.input_shape)"
      ],
      "metadata": {
        "id": "hRUPzyirfNb1"
      },
      "execution_count": null,
      "outputs": []
    },
    {
      "cell_type": "code",
      "source": [
        "# TEST\n",
        "import numpy as np\n",
        "import matplotlib.pyplot as plt\n",
        "from mpl_toolkits.mplot3d import Axes3D\n",
        "\n",
        "from dense import Dense\n",
        "from activations import Tanh\n",
        "from losses import mse, mse_prime\n",
        "from network import train, predict\n",
        "\n",
        "X = np.reshape([[0, 0], [0, 1], [1, 0], [1, 1]], (4, 2, 1))\n",
        "Y = np.reshape([[0], [1], [1], [0]], (4, 1, 1))\n",
        "\n",
        "network = [\n",
        "    Dense(2, 3),\n",
        "    Tanh(),\n",
        "    Dense(3, 1),\n",
        "    Tanh()\n",
        "]\n",
        "\n",
        "# train\n",
        "train(network, mse, mse_prime, X, Y, epochs=10000, learning_rate=0.1)\n",
        "\n",
        "# decision boundary plot\n",
        "points = []\n",
        "for x in np.linspace(0, 1, 20):\n",
        "    for y in np.linspace(0, 1, 20):\n",
        "        z = predict(network, [[x], [y]])\n",
        "        points.append([x, y, z[0,0]])\n",
        "\n",
        "points = np.array(points)\n",
        "\n",
        "fig = plt.figure()\n",
        "ax = fig.add_subplot(111, projection=\"3d\")\n",
        "ax.scatter(points[:, 0], points[:, 1], points[:, 2], c=points[:, 2], cmap=\"winter\")\n",
        "plt.show()"
      ],
      "metadata": {
        "id": "FJAaczlbfXQG"
      },
      "execution_count": null,
      "outputs": []
    }
  ]
}